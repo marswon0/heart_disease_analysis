{
 "cells": [
  {
   "cell_type": "code",
   "execution_count": 1,
   "id": "3760dee9",
   "metadata": {},
   "outputs": [],
   "source": [
    "import numpy as np\n",
    "import pandas as pd\n",
    "import matplotlib.pyplot as plt\n",
    "import seaborn as sns"
   ]
  },
  {
   "cell_type": "code",
   "execution_count": 2,
   "id": "33383685",
   "metadata": {},
   "outputs": [],
   "source": [
    "from sklearn.preprocessing import LabelEncoder\n",
    "from sklearn.preprocessing import OneHotEncoder\n",
    "from sklearn.model_selection import train_test_split\n",
    "from sklearn.model_selection import learning_curve\n",
    "from sklearn.model_selection import ShuffleSplit\n",
    "from sklearn.cluster import KMeans\n",
    "from sklearn.compose import make_column_transformer\n",
    "from sklearn import svm\n",
    "from sklearn import metrics"
   ]
  },
  {
   "cell_type": "markdown",
   "id": "e6698b95",
   "metadata": {},
   "source": [
    "## Preprocessing"
   ]
  },
  {
   "cell_type": "code",
   "execution_count": 3,
   "id": "e3642e04",
   "metadata": {},
   "outputs": [
    {
     "name": "stdout",
     "output_type": "stream",
     "text": [
      "(820, 300)\n",
      "(205, 300)\n"
     ]
    }
   ],
   "source": [
    "df = pd.read_csv('UCI_Heart_Disease.csv',index_col=False)\n",
    "# get label from dataframe\n",
    "label = df['target'].to_numpy()\n",
    "df = df.drop(columns ='target')\n",
    "\n",
    "# locate the catagotical columns (ie.feature described by words, not numbers)\n",
    "catagorical_col = []\n",
    "columns = df.columns[:]\n",
    "for col in columns:\n",
    "    if type(df[col][0])==type('str'):\n",
    "        catagorical_col.append(col)\n",
    "        \n",
    "# transform str feature to numerical feature\n",
    "column_transformer = make_column_transformer(\n",
    "    (OneHotEncoder(), catagorical_col), remainder = 'passthrough')\n",
    "\n",
    "data = column_transformer.fit_transform(df)\n",
    "\n",
    "# transform the data into n clusters\n",
    "KM_data = KMeans(n_clusters=300, random_state=0).fit_transform(data)\n",
    "\n",
    "X = KM_data\n",
    "y = label\n",
    "\n",
    "x_train, x_val, y_train, y_val = train_test_split(KM_data,label,stratify=label,test_size = 0.2,random_state=555,shuffle=True)\n",
    "print(x_train.shape)\n",
    "print(x_val.shape)"
   ]
  },
  {
   "cell_type": "markdown",
   "id": "caaf8302",
   "metadata": {},
   "source": [
    "## SVM Classification"
   ]
  },
  {
   "cell_type": "code",
   "execution_count": 4,
   "id": "dad4a786",
   "metadata": {},
   "outputs": [
    {
     "name": "stdout",
     "output_type": "stream",
     "text": [
      "Accuracy: 1.0\n",
      "Precision: 1.0\n",
      "Recall: 1.0\n"
     ]
    }
   ],
   "source": [
    "clf = svm.SVC(kernel='linear')\n",
    "clf.fit(x_train, y_train)\n",
    "predictions = clf.predict(x_val)\n",
    "acc = metrics.accuracy_score(y_val,predictions)\n",
    "prec = metrics.precision_score(y_val,predictions)\n",
    "recall = metrics.recall_score(y_val,predictions)\n",
    "print('Accuracy:', acc)\n",
    "print('Precision:', prec)\n",
    "print('Recall:', recall)"
   ]
  },
  {
   "cell_type": "code",
   "execution_count": 5,
   "id": "4f2b617a",
   "metadata": {},
   "outputs": [
    {
     "name": "stdout",
     "output_type": "stream",
     "text": [
      "Accuracy: 0.8926829268292683\n",
      "Precision: 0.8878504672897196\n",
      "Recall: 0.9047619047619048\n"
     ]
    }
   ],
   "source": [
    "clf = svm.SVC(kernel='poly', coef0=15)\n",
    "clf.fit(x_train, y_train)\n",
    "predictions = clf.predict(x_val)\n",
    "acc = metrics.accuracy_score(y_val,predictions)\n",
    "prec = metrics.precision_score(y_val,predictions)\n",
    "recall = metrics.recall_score(y_val,predictions)\n",
    "print('Accuracy:', acc)\n",
    "print('Precision:', prec)\n",
    "print('Recall:', recall)"
   ]
  },
  {
   "cell_type": "code",
   "execution_count": 6,
   "id": "917a2f25",
   "metadata": {},
   "outputs": [
    {
     "name": "stdout",
     "output_type": "stream",
     "text": [
      "Accuracy: 0.5121951219512195\n",
      "Precision: 0.5121951219512195\n",
      "Recall: 1.0\n"
     ]
    }
   ],
   "source": [
    "clf = svm.SVC(kernel='sigmoid', gamma = 1/13)\n",
    "clf.fit(x_train, y_train)\n",
    "predictions = clf.predict(x_val)\n",
    "acc = metrics.accuracy_score(y_val,predictions)\n",
    "prec = metrics.precision_score(y_val,predictions)\n",
    "recall = metrics.recall_score(y_val,predictions)\n",
    "print('Accuracy:', acc)\n",
    "print('Precision:', prec)\n",
    "print('Recall:', recall)"
   ]
  },
  {
   "cell_type": "code",
   "execution_count": 7,
   "id": "d9b3fb57",
   "metadata": {},
   "outputs": [
    {
     "name": "stdout",
     "output_type": "stream",
     "text": [
      "Accuracy: 1.0\n",
      "Precision: 1.0\n",
      "Recall: 1.0\n"
     ]
    }
   ],
   "source": [
    "clf = svm.SVC(kernel='rbf', gamma = 1/13)\n",
    "clf.fit(x_train, y_train)\n",
    "predictions = clf.predict(x_val)\n",
    "acc = metrics.accuracy_score(y_val,predictions)\n",
    "prec = metrics.precision_score(y_val,predictions)\n",
    "recall = metrics.recall_score(y_val,predictions)\n",
    "print('Accuracy:', acc)\n",
    "print('Precision:', prec)\n",
    "print('Recall:', recall)"
   ]
  },
  {
   "cell_type": "code",
   "execution_count": null,
   "id": "13028aaa",
   "metadata": {},
   "outputs": [],
   "source": []
  }
 ],
 "metadata": {
  "kernelspec": {
   "display_name": "Python 3 (ipykernel)",
   "language": "python",
   "name": "python3"
  },
  "language_info": {
   "codemirror_mode": {
    "name": "ipython",
    "version": 3
   },
   "file_extension": ".py",
   "mimetype": "text/x-python",
   "name": "python",
   "nbconvert_exporter": "python",
   "pygments_lexer": "ipython3",
   "version": "3.9.7"
  }
 },
 "nbformat": 4,
 "nbformat_minor": 5
}
