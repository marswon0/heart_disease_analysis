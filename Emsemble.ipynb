{
 "cells": [
  {
   "cell_type": "code",
   "execution_count": 1,
   "id": "3760dee9",
   "metadata": {},
   "outputs": [],
   "source": [
    "import numpy as np\n",
    "import pandas as pd\n",
    "import matplotlib.pyplot as plt"
   ]
  },
  {
   "cell_type": "code",
   "execution_count": 2,
   "id": "33383685",
   "metadata": {},
   "outputs": [],
   "source": [
    "from sklearn.preprocessing import LabelEncoder, OneHotEncoder\n",
    "from sklearn.model_selection import train_test_split, cross_val_score\n",
    "from sklearn.compose import make_column_transformer\n",
    "from sklearn import svm, metrics\n",
    "from sklearn.ensemble import AdaBoostClassifier, RandomForestClassifier"
   ]
  },
  {
   "cell_type": "code",
   "execution_count": 3,
   "id": "412e51e4",
   "metadata": {},
   "outputs": [],
   "source": [
    "def OneHotEncoding(labels):\n",
    "    # convert array\n",
    "    labels = np.array(labels)\n",
    "    # integer encode\n",
    "    label_encoder = LabelEncoder()\n",
    "    integer_encoded = label_encoder.fit_transform(labels)\n",
    "    # binary encode\n",
    "    onehot_encoder = OneHotEncoder(sparse=False)\n",
    "    integer_encoded = integer_encoded.reshape(len(integer_encoded), 1)\n",
    "    onehot_encoded = onehot_encoder.fit_transform(integer_encoded)\n",
    "    return onehot_encoded"
   ]
  },
  {
   "cell_type": "markdown",
   "id": "c2cb6cf6",
   "metadata": {},
   "source": [
    "## Load CSV file"
   ]
  },
  {
   "cell_type": "code",
   "execution_count": 4,
   "id": "b1d632dd",
   "metadata": {},
   "outputs": [],
   "source": [
    "df = pd.read_csv('UCI_Heart_Disease.csv',index_col=False)\n"
   ]
  },
  {
   "cell_type": "markdown",
   "id": "e6698b95",
   "metadata": {},
   "source": [
    "## Preprocessing"
   ]
  },
  {
   "cell_type": "code",
   "execution_count": 5,
   "id": "e3642e04",
   "metadata": {},
   "outputs": [],
   "source": [
    "# get label from dataframe\n",
    "label = df['target'].to_numpy()\n",
    "df = df.drop(columns ='target')\n",
    "\n",
    "# locate the catagotical columns (ie.feature described by words, not numbers)\n",
    "catagorical_col = []\n",
    "columns = df.columns[:]\n",
    "for col in columns:\n",
    "    if type(df[col][0])==type('str'):\n",
    "        catagorical_col.append(col)\n",
    "        \n",
    "# transform str feature to numerical feature\n",
    "column_transformer = make_column_transformer(\n",
    "    (OneHotEncoder(), catagorical_col), remainder = 'passthrough')\n",
    "\n",
    "data = column_transformer.fit_transform(df)\n",
    "\n",
    "# # OneHotEncode the labels\n",
    "# label = OneHotEncoding(label)\n",
    "\n",
    "x_train, x_val, y_train, y_val = train_test_split(data,label,stratify=label,test_size = 0.3,random_state=200,shuffle=True)"
   ]
  },
  {
   "cell_type": "code",
   "execution_count": 6,
   "id": "1ad78e5e",
   "metadata": {},
   "outputs": [
    {
     "name": "stdout",
     "output_type": "stream",
     "text": [
      "(717, 30)\n",
      "(308, 30)\n"
     ]
    }
   ],
   "source": [
    "print(x_train.shape)\n",
    "print(x_val.shape)"
   ]
  },
  {
   "cell_type": "markdown",
   "id": "caaf8302",
   "metadata": {},
   "source": [
    "## Random Forest, Entropy"
   ]
  },
  {
   "cell_type": "code",
   "execution_count": 7,
   "id": "4fa86598",
   "metadata": {},
   "outputs": [
    {
     "name": "stdout",
     "output_type": "stream",
     "text": [
      "Accuracy: 0.9448051948051948\n",
      "Precision: 0.9433962264150944\n",
      "Recall: 0.9493670886075949\n"
     ]
    }
   ],
   "source": [
    "clf = RandomForestClassifier(n_estimators=1, criterion = 'entropy',max_depth=13)\n",
    "clf.fit(x_train, y_train)\n",
    "predictions = clf.predict(x_val)\n",
    "acc = metrics.accuracy_score(y_val,predictions)\n",
    "prec = metrics.precision_score(y_val,predictions)\n",
    "recall = metrics.recall_score(y_val,predictions)\n",
    "print('Accuracy:', acc)\n",
    "print('Precision:', prec)\n",
    "print('Recall:', recall)\n"
   ]
  },
  {
   "cell_type": "code",
   "execution_count": 8,
   "id": "f3643007",
   "metadata": {},
   "outputs": [
    {
     "name": "stdout",
     "output_type": "stream",
     "text": [
      "Accuracy: 0.9772727272727273\n",
      "Precision: 0.9575757575757575\n",
      "Recall: 1.0\n"
     ]
    }
   ],
   "source": [
    "clf = RandomForestClassifier(n_estimators=5, criterion = 'entropy',max_depth=13)\n",
    "clf.fit(x_train, y_train)\n",
    "predictions = clf.predict(x_val)\n",
    "acc = metrics.accuracy_score(y_val,predictions)\n",
    "prec = metrics.precision_score(y_val,predictions)\n",
    "recall = metrics.recall_score(y_val,predictions)\n",
    "print('Accuracy:', acc)\n",
    "print('Precision:', prec)\n",
    "print('Recall:', recall)"
   ]
  },
  {
   "cell_type": "code",
   "execution_count": 9,
   "id": "6c3ee5d2",
   "metadata": {},
   "outputs": [
    {
     "name": "stdout",
     "output_type": "stream",
     "text": [
      "Accuracy: 1.0\n",
      "Precision: 1.0\n",
      "Recall: 1.0\n"
     ]
    }
   ],
   "source": [
    "\n",
    "clf = RandomForestClassifier(n_estimators=10, criterion = 'entropy',max_depth=13)\n",
    "clf.fit(x_train, y_train)\n",
    "predictions = clf.predict(x_val)\n",
    "acc = metrics.accuracy_score(y_val,predictions)\n",
    "prec = metrics.precision_score(y_val,predictions)\n",
    "recall = metrics.recall_score(y_val,predictions)\n",
    "print('Accuracy:', acc)\n",
    "print('Precision:', prec)\n",
    "print('Recall:', recall)\n"
   ]
  },
  {
   "cell_type": "markdown",
   "id": "15469faf",
   "metadata": {},
   "source": [
    "## Random Forest, Gini"
   ]
  },
  {
   "cell_type": "code",
   "execution_count": 10,
   "id": "d4c36bba",
   "metadata": {},
   "outputs": [
    {
     "name": "stdout",
     "output_type": "stream",
     "text": [
      "Accuracy: 0.9415584415584416\n",
      "Precision: 0.9430379746835443\n",
      "Recall: 0.9430379746835443\n"
     ]
    }
   ],
   "source": [
    "clf = RandomForestClassifier(n_estimators=1, criterion = 'gini',max_depth=13)\n",
    "clf.fit(x_train, y_train)\n",
    "predictions = clf.predict(x_val)\n",
    "acc = metrics.accuracy_score(y_val,predictions)\n",
    "prec = metrics.precision_score(y_val,predictions)\n",
    "recall = metrics.recall_score(y_val,predictions)\n",
    "print('Accuracy:', acc)\n",
    "print('Precision:', prec)\n",
    "print('Recall:', recall)"
   ]
  },
  {
   "cell_type": "code",
   "execution_count": 11,
   "id": "fe45fe00",
   "metadata": {},
   "outputs": [
    {
     "name": "stdout",
     "output_type": "stream",
     "text": [
      "Accuracy: 1.0\n",
      "Precision: 1.0\n",
      "Recall: 1.0\n"
     ]
    }
   ],
   "source": [
    "clf = RandomForestClassifier(n_estimators=5, criterion = 'gini',max_depth=13)\n",
    "clf.fit(x_train, y_train)\n",
    "predictions = clf.predict(x_val)\n",
    "acc = metrics.accuracy_score(y_val,predictions)\n",
    "prec = metrics.precision_score(y_val,predictions)\n",
    "recall = metrics.recall_score(y_val,predictions)\n",
    "print('Accuracy:', acc)\n",
    "print('Precision:', prec)\n",
    "print('Recall:', recall)"
   ]
  },
  {
   "cell_type": "code",
   "execution_count": 12,
   "id": "741f8028",
   "metadata": {},
   "outputs": [
    {
     "name": "stdout",
     "output_type": "stream",
     "text": [
      "Accuracy: 1.0\n",
      "Precision: 1.0\n",
      "Recall: 1.0\n"
     ]
    }
   ],
   "source": [
    "clf = RandomForestClassifier(n_estimators=10, criterion = 'gini',max_depth=13)\n",
    "clf.fit(x_train, y_train)\n",
    "predictions = clf.predict(x_val)\n",
    "acc = metrics.accuracy_score(y_val,predictions)\n",
    "prec = metrics.precision_score(y_val,predictions)\n",
    "recall = metrics.recall_score(y_val,predictions)\n",
    "print('Accuracy:', acc)\n",
    "print('Precision:', prec)\n",
    "print('Recall:', recall)"
   ]
  },
  {
   "cell_type": "markdown",
   "id": "62ac4016",
   "metadata": {},
   "source": [
    "## AdaBoost"
   ]
  },
  {
   "cell_type": "code",
   "execution_count": 19,
   "id": "06ca9d91",
   "metadata": {},
   "outputs": [
    {
     "name": "stdout",
     "output_type": "stream",
     "text": [
      "Accuracy: 0.8993506493506493\n",
      "Precision: 0.8944099378881988\n",
      "Recall: 0.9113924050632911\n"
     ]
    }
   ],
   "source": [
    "clf = AdaBoostClassifier(n_estimators=100)\n",
    "clf.fit(x_train, y_train)\n",
    "predictions = clf.predict(x_val)\n",
    "acc = metrics.accuracy_score(y_val,predictions)\n",
    "prec = metrics.precision_score(y_val,predictions)\n",
    "recall = metrics.recall_score(y_val,predictions)\n",
    "print('Accuracy:', acc)\n",
    "print('Precision:', prec)\n",
    "print('Recall:', recall)"
   ]
  },
  {
   "cell_type": "code",
   "execution_count": 20,
   "id": "30c48599",
   "metadata": {},
   "outputs": [
    {
     "data": {
      "text/plain": [
       "0.9525801952580195"
      ]
     },
     "execution_count": 20,
     "metadata": {},
     "output_type": "execute_result"
    }
   ],
   "source": [
    "clf.score(x_train,y_train)"
   ]
  },
  {
   "cell_type": "code",
   "execution_count": 21,
   "id": "928309a9",
   "metadata": {},
   "outputs": [
    {
     "name": "stdout",
     "output_type": "stream",
     "text": [
      "Accuracy: 0.974025974025974\n",
      "Precision: 0.987012987012987\n",
      "Recall: 0.9620253164556962\n"
     ]
    }
   ],
   "source": [
    "clf = AdaBoostClassifier(n_estimators=500)\n",
    "clf.fit(x_train, y_train)\n",
    "predictions = clf.predict(x_val)\n",
    "acc = metrics.accuracy_score(y_val,predictions)\n",
    "prec = metrics.precision_score(y_val,predictions)\n",
    "recall = metrics.recall_score(y_val,predictions)\n",
    "print('Accuracy:', acc)\n",
    "print('Precision:', prec)\n",
    "print('Recall:', recall)"
   ]
  },
  {
   "cell_type": "code",
   "execution_count": 22,
   "id": "e084d735",
   "metadata": {},
   "outputs": [
    {
     "data": {
      "text/plain": [
       "0.99721059972106"
      ]
     },
     "execution_count": 22,
     "metadata": {},
     "output_type": "execute_result"
    }
   ],
   "source": [
    "clf.score(x_train,y_train)"
   ]
  },
  {
   "cell_type": "code",
   "execution_count": 23,
   "id": "a7f04134",
   "metadata": {},
   "outputs": [
    {
     "name": "stdout",
     "output_type": "stream",
     "text": [
      "Accuracy: 0.9805194805194806\n",
      "Precision: 1.0\n",
      "Recall: 0.9620253164556962\n"
     ]
    }
   ],
   "source": [
    "clf = AdaBoostClassifier(n_estimators=1000)\n",
    "clf.fit(x_train, y_train)\n",
    "predictions = clf.predict(x_val)\n",
    "acc = metrics.accuracy_score(y_val,predictions)\n",
    "prec = metrics.precision_score(y_val,predictions)\n",
    "recall = metrics.recall_score(y_val,predictions)\n",
    "print('Accuracy:', acc)\n",
    "print('Precision:', prec)\n",
    "print('Recall:', recall)"
   ]
  },
  {
   "cell_type": "code",
   "execution_count": 24,
   "id": "564c30cf",
   "metadata": {},
   "outputs": [
    {
     "data": {
      "text/plain": [
       "1.0"
      ]
     },
     "execution_count": 24,
     "metadata": {},
     "output_type": "execute_result"
    }
   ],
   "source": [
    "clf.score(x_train,y_train)"
   ]
  },
  {
   "cell_type": "code",
   "execution_count": 25,
   "id": "5bd2942b",
   "metadata": {},
   "outputs": [
    {
     "name": "stdout",
     "output_type": "stream",
     "text": [
      "Accuracy: 0.9805194805194806\n",
      "Precision: 1.0\n",
      "Recall: 0.9620253164556962\n"
     ]
    }
   ],
   "source": [
    "clf = AdaBoostClassifier(n_estimators=2000)\n",
    "clf.fit(x_train, y_train)\n",
    "predictions = clf.predict(x_val)\n",
    "acc = metrics.accuracy_score(y_val,predictions)\n",
    "prec = metrics.precision_score(y_val,predictions)\n",
    "recall = metrics.recall_score(y_val,predictions)\n",
    "print('Accuracy:', acc)\n",
    "print('Precision:', prec)\n",
    "print('Recall:', recall)"
   ]
  },
  {
   "cell_type": "code",
   "execution_count": 26,
   "id": "87606b6c",
   "metadata": {},
   "outputs": [
    {
     "data": {
      "text/plain": [
       "1.0"
      ]
     },
     "execution_count": 26,
     "metadata": {},
     "output_type": "execute_result"
    }
   ],
   "source": [
    "clf.score(x_train,y_train)"
   ]
  },
  {
   "cell_type": "code",
   "execution_count": 27,
   "id": "457e2865",
   "metadata": {},
   "outputs": [
    {
     "name": "stdout",
     "output_type": "stream",
     "text": [
      "Accuracy: 1.0\n",
      "Precision: 1.0\n",
      "Recall: 1.0\n"
     ]
    }
   ],
   "source": [
    "clf = AdaBoostClassifier(n_estimators=5000)\n",
    "clf.fit(x_train, y_train)\n",
    "predictions = clf.predict(x_val)\n",
    "acc = metrics.accuracy_score(y_val,predictions)\n",
    "prec = metrics.precision_score(y_val,predictions)\n",
    "recall = metrics.recall_score(y_val,predictions)\n",
    "print('Accuracy:', acc)\n",
    "print('Precision:', prec)\n",
    "print('Recall:', recall)"
   ]
  },
  {
   "cell_type": "code",
   "execution_count": 28,
   "id": "6f291cfd",
   "metadata": {},
   "outputs": [
    {
     "data": {
      "text/plain": [
       "1.0"
      ]
     },
     "execution_count": 28,
     "metadata": {},
     "output_type": "execute_result"
    }
   ],
   "source": [
    "clf.score(x_train,y_train)"
   ]
  }
 ],
 "metadata": {
  "kernelspec": {
   "display_name": "Python 3 (ipykernel)",
   "language": "python",
   "name": "python3"
  },
  "language_info": {
   "codemirror_mode": {
    "name": "ipython",
    "version": 3
   },
   "file_extension": ".py",
   "mimetype": "text/x-python",
   "name": "python",
   "nbconvert_exporter": "python",
   "pygments_lexer": "ipython3",
   "version": "3.9.7"
  }
 },
 "nbformat": 4,
 "nbformat_minor": 5
}
